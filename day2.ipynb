{
 "cells": [
  {
   "cell_type": "code",
   "execution_count": 38,
   "metadata": {},
   "outputs": [
    {
     "name": "stdin",
     "output_type": "stream",
     "text": [
      "enter the element 2\n",
      "enter the element 4\n",
      "enter the element 7\n",
      "enter the element 9\n",
      "enter the element 6\n",
      "enter the element 1\n",
      "enter the element 12\n",
      "enter the element 15\n",
      "enter the element 18\n"
     ]
    },
    {
     "name": "stdout",
     "output_type": "stream",
     "text": [
      "[2, 4, 6, 12, 18]\n"
     ]
    }
   ],
   "source": [
    "#QUESTION - 1\n",
    "a = []\n",
    "for i in range(0,9,1):\n",
    "    b=eval(input(\"enter the element\"))\n",
    "    if(b%2==0):\n",
    "        a.append(b)\n",
    "print(a)\n",
    "    "
   ]
  },
  {
   "cell_type": "code",
   "execution_count": null,
   "metadata": {},
   "outputs": [],
   "source": [
    "# QUESTION - 2\n",
    "#list comprehension\n",
    "list comprehension is the other way of creating list. it has all of it snecessary conditions to create a list within the '[]' enclosed. these are ettewr alternatives for using for loops after initialising the list.\n",
    "example:\n",
    "# using the for loop:\n",
    "a=[]\n",
    "for i in range(20):\n",
    "    if(i%2==0):\n",
    "        a.append(i)\n",
    "print(a)\n",
    "\n",
    "this code would display the list of even number entered by the user from the 20 inputs he given. the same can be done using list comprehension.\n",
    "# using list comprehensions:\n",
    "a=[i for i in range(20) if i%2==0]\n",
    "print(a)\n",
    "\n",
    "** every list comperhension can be rewitten for loop but every loop cannot be rewritten in list comprehensions.\n",
    "\n",
    "\n",
    "\n"
   ]
  },
  {
   "cell_type": "code",
   "execution_count": 39,
   "metadata": {},
   "outputs": [
    {
     "name": "stdin",
     "output_type": "stream",
     "text": [
      " 8\n"
     ]
    },
    {
     "name": "stdout",
     "output_type": "stream",
     "text": [
      "{1: 1, 2: 4, 3: 9, 4: 16, 5: 25, 6: 36, 7: 49, 8: 64}\n"
     ]
    }
   ],
   "source": [
    "#QUESTION - 3\n",
    "n = int(input(\"\"))\n",
    "d = {} \n",
    "for i in range(1,n+1,1):\n",
    "    d[i] = i*i;\n",
    "    i=i+1;\n",
    "    \n",
    "print(d)\n",
    "    "
   ]
  },
  {
   "cell_type": "code",
   "execution_count": 40,
   "metadata": {},
   "outputs": [
    {
     "name": "stdin",
     "output_type": "stream",
     "text": [
      " 4\n",
      "UP  5\n",
      "DOWN  3\n",
      "RIGHT  3\n",
      "LEFT  2\n"
     ]
    },
    {
     "name": "stdout",
     "output_type": "stream",
     "text": [
      "2\n"
     ]
    }
   ],
   "source": [
    "#QUESTION - 4 \n",
    "import math\n",
    "n = int(input(\"\"))     \n",
    "u = int(input(\"UP \"))\n",
    "d = int(input(\"DOWN \"))\n",
    "r = int(input(\"RIGHT \"))\n",
    "l = int(input(\"LEFT \"))\n",
    "x1 = 0\n",
    "y1 = 0\n",
    "x2 = u-d\n",
    "y2 = r-l\n",
    "dis= math.hypot((x1 - x2),(y1-y2))\n",
    "print(round(dis))\n",
    "\n",
    "\n"
   ]
  },
  {
   "cell_type": "code",
   "execution_count": null,
   "metadata": {},
   "outputs": [],
   "source": []
  }
 ],
 "metadata": {
  "kernelspec": {
   "display_name": "Python 3",
   "language": "python",
   "name": "python3"
  },
  "language_info": {
   "codemirror_mode": {
    "name": "ipython",
    "version": 3
   },
   "file_extension": ".py",
   "mimetype": "text/x-python",
   "name": "python",
   "nbconvert_exporter": "python",
   "pygments_lexer": "ipython3",
   "version": "3.7.6"
  }
 },
 "nbformat": 4,
 "nbformat_minor": 4
}
