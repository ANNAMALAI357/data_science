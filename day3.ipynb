{
 "cells": [
  {
   "cell_type": "code",
   "execution_count": 1,
   "metadata": {},
   "outputs": [
    {
     "name": "stdout",
     "output_type": "stream",
     "text": [
      "[ 2  5  8 11 14 17 20 23 26 29 32 35 38 41 44 47 50]\n"
     ]
    }
   ],
   "source": [
    "# QUESTION - 1\n",
    "import numpy as np\n",
    "arr=np.arange(2,51,3)\n",
    "print(arr)"
   ]
  },
  {
   "cell_type": "code",
   "execution_count": 45,
   "metadata": {},
   "outputs": [
    {
     "name": "stdin",
     "output_type": "stream",
     "text": [
      " 1\n",
      " 2\n",
      " 3\n",
      " 4\n",
      " 5\n"
     ]
    },
    {
     "name": "stdout",
     "output_type": "stream",
     "text": [
      "[1 2 3 4 5]\n"
     ]
    },
    {
     "name": "stdin",
     "output_type": "stream",
     "text": [
      " 6\n",
      " 7\n",
      " 8\n",
      " 9\n",
      " 0\n"
     ]
    },
    {
     "name": "stdout",
     "output_type": "stream",
     "text": [
      "[6 7 8 9 0]\n",
      "[1 2 3 4 5 6 7 8 9 0]\n",
      "[0 1 2 3 4 5 6 7 8 9]\n"
     ]
    }
   ],
   "source": [
    "#QUESTION 2\n",
    "import numpy as np\n",
    "a1 = []\n",
    "for i in range(0,5,1):\n",
    "    b = int(input(\"\"))\n",
    "    a1.append(b)\n",
    "array1 = np.asarray(a1)\n",
    "print(array1)\n",
    "a2 = []\n",
    "for j in range(0,5,1):\n",
    "    c = int(input(\"\"))\n",
    "    a2.append(c)\n",
    "array2 = np.asarray(a2)\n",
    "print(array2)\n",
    "array = np.concatenate((array1,array2),axis=0)\n",
    "print(array)\n",
    "print(np.sort(array))\n",
    "\n",
    "    \n",
    "\n",
    "    "
   ]
  },
  {
   "cell_type": "code",
   "execution_count": 46,
   "metadata": {},
   "outputs": [
    {
     "name": "stdout",
     "output_type": "stream",
     "text": [
      "dimensions: (5, 2)\n",
      "size: 10\n"
     ]
    }
   ],
   "source": [
    "# QUESTION - 3\n",
    "import numpy as np\n",
    "a = [[7,8],[9,4],[5,6],[1,2],[3,2]] # sample array\n",
    "b= np.array(a)\n",
    "print(\"dimensions:\",b.shape) # prints the dimesion if the array in the (no of rows, no of columns)\n",
    "print(\"size:\",b.size) # prints the no of elements(size) of the array \n"
   ]
  },
  {
   "cell_type": "code",
   "execution_count": 1,
   "metadata": {},
   "outputs": [
    {
     "name": "stdout",
     "output_type": "stream",
     "text": [
      "dimension (4,)\n",
      "dimesnsion (1, 4)\n",
      "[[1 2 3 4]]\n",
      "dimension (4, 1)\n",
      "[[1]\n",
      " [2]\n",
      " [3]\n",
      " [4]]\n",
      "dimesnsion (1, 4)\n",
      "[[1 2 3 4]]\n",
      "dimension (4, 1)\n",
      "[[1]\n",
      " [2]\n",
      " [3]\n",
      " [4]]\n"
     ]
    }
   ],
   "source": [
    "# QUESTION - 4\n",
    "import numpy as np\n",
    "a = [1,2,3,4]\n",
    "b = np.array(a)\n",
    "print(\"dimension\",b.shape)\n",
    "b1 = b[np.newaxis,:] # using np.newais to create a row wise 2D array\n",
    "print(\"dimesnsion\",b1.shape)\n",
    "print(b1)\n",
    "b2 = b[:,np.newaxis] # using np.newaxis to create a column wise 2D array\n",
    "print(\"dimension\",b2.shape)\n",
    "print(b2)\n",
    "b3 = np.expand_dims(b,axis = 0) #using np.expand_dims to create a 2D array along 0th axis\n",
    "print(\"dimesnsion\",b3.shape)\n",
    "print(b3)\n",
    "b4 = np.expand_dims(b,axis = 1) # using np.expand_dims to create a 2D array along 1st axis\n",
    "print(\"dimension\",b4.shape)\n",
    "print(b4)"
   ]
  },
  {
   "cell_type": "code",
   "execution_count": 32,
   "metadata": {},
   "outputs": [
    {
     "name": "stdout",
     "output_type": "stream",
     "text": [
      "[[1 2 3]\n",
      " [4 5 6]\n",
      " [7 8 9]\n",
      " [7 8 9]\n",
      " [4 5 6]\n",
      " [1 2 3]]\n",
      "\n",
      "[[1 2 3 7 8 9]\n",
      " [4 5 6 4 5 6]\n",
      " [7 8 9 1 2 3]]\n"
     ]
    }
   ],
   "source": [
    "# QUESTION - 5\n",
    "import numpy as np\n",
    "a = np.array([[1,2,3],[4,5,6],[7,8,9]])\n",
    "b = np.array([[7,8,9],[4,5,6],[1,2,3]])\n",
    "vs = np.vstack((a,b)) #stacks array in the vertical order \n",
    "hs = np.hstack((a,b)) #stacks array in the hosrizontal order\n",
    "print(vs)\n",
    "print()\n",
    "print(hs)\n"
   ]
  },
  {
   "cell_type": "code",
   "execution_count": 44,
   "metadata": {},
   "outputs": [
    {
     "name": "stdout",
     "output_type": "stream",
     "text": [
      "[1 2 3 4 5 6 7 8 9]\n",
      "(array([1, 2, 3, 4, 5, 6, 7, 8, 9]), array([1, 2, 2, 1, 2, 1, 1, 2, 1]))\n"
     ]
    }
   ],
   "source": [
    "# QUESTION - 6\n",
    "import numpy as np\n",
    "a = np.array([1,2,2,3,3,4,5,5,6,7,8,8,9])\n",
    "print(np.unique(a)) # generates only the unique valus from the given array\n",
    "print(np.unique(a,return_counts=True)) #generates the count of the uniqu numbers"
   ]
  },
  {
   "cell_type": "code",
   "execution_count": null,
   "metadata": {},
   "outputs": [],
   "source": []
  }
 ],
 "metadata": {
  "kernelspec": {
   "display_name": "Python 3",
   "language": "python",
   "name": "python3"
  },
  "language_info": {
   "codemirror_mode": {
    "name": "ipython",
    "version": 3
   },
   "file_extension": ".py",
   "mimetype": "text/x-python",
   "name": "python",
   "nbconvert_exporter": "python",
   "pygments_lexer": "ipython3",
   "version": "3.7.6"
  }
 },
 "nbformat": 4,
 "nbformat_minor": 4
}
